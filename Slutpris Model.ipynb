{
 "cells": [
  {
   "cell_type": "code",
   "execution_count": 1,
   "metadata": {},
   "outputs": [],
   "source": [
    "import seaborn as sns\n",
    "import pandas as pd"
   ]
  },
  {
   "cell_type": "code",
   "execution_count": 2,
   "metadata": {},
   "outputs": [
    {
     "data": {
      "text/html": [
       "<div>\n",
       "<style scoped>\n",
       "    .dataframe tbody tr th:only-of-type {\n",
       "        vertical-align: middle;\n",
       "    }\n",
       "\n",
       "    .dataframe tbody tr th {\n",
       "        vertical-align: top;\n",
       "    }\n",
       "\n",
       "    .dataframe thead th {\n",
       "        text-align: right;\n",
       "    }\n",
       "</style>\n",
       "<table border=\"1\" class=\"dataframe\">\n",
       "  <thead>\n",
       "    <tr style=\"text-align: right;\">\n",
       "      <th></th>\n",
       "      <th>address</th>\n",
       "      <th>floor</th>\n",
       "      <th>area</th>\n",
       "      <th>rent</th>\n",
       "      <th>price</th>\n",
       "      <th>date</th>\n",
       "      <th>kr_sqm</th>\n",
       "      <th>change</th>\n",
       "      <th>sqm</th>\n",
       "      <th>rooms</th>\n",
       "    </tr>\n",
       "  </thead>\n",
       "  <tbody>\n",
       "    <tr>\n",
       "      <th>0</th>\n",
       "      <td>Fatburs Kvarngata 17</td>\n",
       "      <td>NaN</td>\n",
       "      <td>Södermalm,</td>\n",
       "      <td>4235.0</td>\n",
       "      <td>5250000.0</td>\n",
       "      <td>2020-03-16</td>\n",
       "      <td>73944.0</td>\n",
       "      <td>12.0</td>\n",
       "      <td>71.0</td>\n",
       "      <td>3.0</td>\n",
       "    </tr>\n",
       "    <tr>\n",
       "      <th>1</th>\n",
       "      <td>Södra Agnegatan 20</td>\n",
       "      <td>2.0</td>\n",
       "      <td>Kungsholmen - Kungsholmstorg,</td>\n",
       "      <td>1775.0</td>\n",
       "      <td>7625000.0</td>\n",
       "      <td>2020-03-16</td>\n",
       "      <td>105903.0</td>\n",
       "      <td>6.0</td>\n",
       "      <td>72.0</td>\n",
       "      <td>3.0</td>\n",
       "    </tr>\n",
       "    <tr>\n",
       "      <th>2</th>\n",
       "      <td>Frödingsvägen 6</td>\n",
       "      <td>NaN</td>\n",
       "      <td>Kungsholmen,</td>\n",
       "      <td>1977.0</td>\n",
       "      <td>3850000.0</td>\n",
       "      <td>2020-03-16</td>\n",
       "      <td>80208.0</td>\n",
       "      <td>4.0</td>\n",
       "      <td>48.0</td>\n",
       "      <td>2.0</td>\n",
       "    </tr>\n",
       "    <tr>\n",
       "      <th>3</th>\n",
       "      <td>Robert Almströmsgatan 5</td>\n",
       "      <td>5.0</td>\n",
       "      <td>Vasastan,</td>\n",
       "      <td>2957.0</td>\n",
       "      <td>6070000.0</td>\n",
       "      <td>2020-03-16</td>\n",
       "      <td>86714.0</td>\n",
       "      <td>10.0</td>\n",
       "      <td>70.0</td>\n",
       "      <td>2.0</td>\n",
       "    </tr>\n",
       "    <tr>\n",
       "      <th>4</th>\n",
       "      <td>Krångedevägen 17</td>\n",
       "      <td>NaN</td>\n",
       "      <td>Hjorthagen,</td>\n",
       "      <td>2661.0</td>\n",
       "      <td>2850000.0</td>\n",
       "      <td>2020-03-16</td>\n",
       "      <td>71250.0</td>\n",
       "      <td>2.0</td>\n",
       "      <td>40.0</td>\n",
       "      <td>2.0</td>\n",
       "    </tr>\n",
       "  </tbody>\n",
       "</table>\n",
       "</div>"
      ],
      "text/plain": [
       "                   address  floor                           area    rent  \\\n",
       "0     Fatburs Kvarngata 17    NaN                     Södermalm,  4235.0   \n",
       "1       Södra Agnegatan 20    2.0  Kungsholmen - Kungsholmstorg,  1775.0   \n",
       "2          Frödingsvägen 6    NaN                   Kungsholmen,  1977.0   \n",
       "3  Robert Almströmsgatan 5    5.0                      Vasastan,  2957.0   \n",
       "4         Krångedevägen 17    NaN                    Hjorthagen,  2661.0   \n",
       "\n",
       "       price        date    kr_sqm  change   sqm  rooms  \n",
       "0  5250000.0  2020-03-16   73944.0    12.0  71.0    3.0  \n",
       "1  7625000.0  2020-03-16  105903.0     6.0  72.0    3.0  \n",
       "2  3850000.0  2020-03-16   80208.0     4.0  48.0    2.0  \n",
       "3  6070000.0  2020-03-16   86714.0    10.0  70.0    2.0  \n",
       "4  2850000.0  2020-03-16   71250.0     2.0  40.0    2.0  "
      ]
     },
     "execution_count": 2,
     "metadata": {},
     "output_type": "execute_result"
    }
   ],
   "source": [
    "df = pd.read_csv('src/parser/slutpriser.csv')\n",
    "df.head()"
   ]
  },
  {
   "cell_type": "code",
   "execution_count": 3,
   "metadata": {},
   "outputs": [
    {
     "data": {
      "text/plain": [
       "<seaborn.axisgrid.FacetGrid at 0x199592ba6d0>"
      ]
     },
     "execution_count": 3,
     "metadata": {},
     "output_type": "execute_result"
    },
    {
     "data": {
      "image/png": "[encoded data removed]",
      "text/plain": [
       "<Figure size 360x360 with 1 Axes>"
      ]
     },
     "metadata": {
      "needs_background": "light"
     },
     "output_type": "display_data"
    }
   ],
   "source": [
    "sns.lmplot('sqm', 'price', df, ci=100)"
   ]
  },
  {
   "cell_type": "code",
   "execution_count": 4,
   "metadata": {},
   "outputs": [
    {
     "data": {
      "text/plain": [
       "<matplotlib.axes._subplots.AxesSubplot at 0x1995b3ca3a0>"
      ]
     },
     "execution_count": 4,
     "metadata": {},
     "output_type": "execute_result"
    },
    {
     "data": {
      "image/png": "[encoded data removed]",
      "text/plain": [
       "<Figure size 432x288 with 2 Axes>"
      ]
     },
     "metadata": {
      "needs_background": "light"
     },
     "output_type": "display_data"
    }
   ],
   "source": [
    "corr = df[['price', 'floor', 'rent', 'date', 'kr_sqm', 'change', 'sqm', 'rooms']].dropna().corr()\n",
    "sns.heatmap(corr, \n",
    "        xticklabels=corr.columns,\n",
    "        yticklabels=corr.columns)"
   ]
  }
 ],
 "metadata": {
  "kernelspec": {
   "display_name": "Python 3",
   "language": "python",
   "name": "python3"
  },
  "language_info": {
   "codemirror_mode": {
    "name": "ipython",
    "version": 3
   },
   "file_extension": ".py",
   "mimetype": "text/x-python",
   "name": "python",
   "nbconvert_exporter": "python",
   "pygments_lexer": "ipython3",
   "version": "3.8.2"
  }
 },
 "nbformat": 4,
 "nbformat_minor": 4
}
